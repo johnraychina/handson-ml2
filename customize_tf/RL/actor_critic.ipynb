{
 "cells": [
  {
   "cell_type": "markdown",
   "metadata": {
    "id": "_jQ1tEQCxwRx"
   },
   "source": [
    "##### Copyright 2020 The TensorFlow Authors."
   ]
  },
  {
   "cell_type": "code",
   "execution_count": 1,
   "metadata": {
    "cellView": "form",
    "execution": {
     "iopub.execute_input": "2024-08-16T02:25:19.423282Z",
     "iopub.status.busy": "2024-08-16T02:25:19.423061Z",
     "iopub.status.idle": "2024-08-16T02:25:19.427001Z",
     "shell.execute_reply": "2024-08-16T02:25:19.426364Z"
    },
    "id": "V_sgB_5dx1f1"
   },
   "outputs": [],
   "source": [
    "#@title Licensed under the Apache License, Version 2.0 (the \"License\");\n",
    "# you may not use this file except in compliance with the License.\n",
    "# You may obtain a copy of the License at\n",
    "#\n",
    "# https://www.apache.org/licenses/LICENSE-2.0\n",
    "#\n",
    "# Unless required by applicable law or agreed to in writing, software\n",
    "# distributed under the License is distributed on an \"AS IS\" BASIS,\n",
    "# WITHOUT WARRANTIES OR CONDITIONS OF ANY KIND, either express or implied.\n",
    "# See the License for the specific language governing permissions and\n",
    "# limitations under the License."
   ]
  },
  {
   "cell_type": "markdown",
   "metadata": {
    "id": "p62G8M_viUJp"
   },
   "source": [
    "# Playing CartPole with the Actor-Critic method\n"
   ]
  },
  {
   "cell_type": "markdown",
   "metadata": {
    "id": "-mJ2i6jvZ3sK"
   },
   "source": [
    "<table class=\"tfo-notebook-buttons\" align=\"left\">\n",
    "  <td>\n",
    "    <a target=\"_blank\" href=\"https://www.tensorflow.org/tutorials/reinforcement_learning/actor_critic\">\n",
    "    <img src=\"https://www.tensorflow.org/images/tf_logo_32px.png\" />\n",
    "    View on TensorFlow.org</a>\n",
    "  </td>\n",
    "  <td>\n",
    "    <a target=\"_blank\" href=\"https://colab.research.google.com/github/tensorflow/docs/blob/master/site/en/tutorials/reinforcement_learning/actor_critic.ipynb\">\n",
    "    <img src=\"https://www.tensorflow.org/images/colab_logo_32px.png\" />\n",
    "    Run in Google Colab</a>\n",
    "  </td>\n",
    "  <td>\n",
    "    <a target=\"_blank\" href=\"https://github.com/tensorflow/docs/blob/master/site/en/tutorials/reinforcement_learning/actor_critic.ipynb\">\n",
    "    <img src=\"https://www.tensorflow.org/images/GitHub-Mark-32px.png\" />\n",
    "    View source on GitHub</a>\n",
    "  </td>\n",
    "  <td>\n",
    "    <a href=\"https://storage.googleapis.com/tensorflow_docs/docs/site/en/tutorials/reinforcement_learning/actor_critic.ipynb\"><img src=\"https://www.tensorflow.org/images/download_logo_32px.png\" />Download notebook</a>\n",
    "  </td>\n",
    "</table>"
   ]
  },
  {
   "cell_type": "markdown",
   "metadata": {
    "id": "kFgN7h_wiUJq"
   },
   "source": [
    "This tutorial demonstrates how to implement the [Actor-Critic](https://papers.nips.cc/paper/1786-actor-critic-algorithms.pdf) method using TensorFlow to train an agent on the [Open AI Gym](https://www.gymlibrary.dev/) [`CartPole-v0`](https://www.gymlibrary.dev/environments/classic_control/cart_pole/) environment.\n",
    "The reader is assumed to have some familiarity with [policy gradient methods](https://papers.nips.cc/paper/1713-policy-gradient-methods-for-reinforcement-learning-with-function-approximation.pdf) of [(deep) reinforcement learning](https://en.wikipedia.org/wiki/Deep_reinforcement_learning).\n"
   ]
  },
  {
   "cell_type": "markdown",
   "metadata": {
    "id": "_kA10ZKRR0hi"
   },
   "source": [
    "**Actor-Critic methods**\n",
    "\n",
    "Actor-Critic methods are [temporal difference (TD) learning](https://en.wikipedia.org/wiki/Temporal_difference_learning) methods that represent the policy function independent of the value function.\n",
    "\n",
    "A policy function (or policy) returns a probability distribution over actions that the agent can take based on the given state.\n",
    "A value function determines the expected return for an agent starting at a given state and acting according to a particular policy forever after.\n",
    "\n",
    "In the Actor-Critic method, the policy is referred to as the *actor* that proposes a set of possible actions given a state, and the estimated value function is referred to as the *critic*, which evaluates actions taken by the *actor* based on the given policy.\n",
    "\n",
    "In this tutorial, both the *Actor* and *Critic* will be represented using one neural network with two outputs.\n"
   ]
  },
  {
   "cell_type": "markdown",
   "metadata": {
    "id": "rBfiafKSRs2k"
   },
   "source": [
    "**`CartPole-v0`**\n",
    "\n",
    "In the [`CartPole-v0` environment](https://www.gymlibrary.dev/environments/classic_control/cart_pole/), a pole is attached to a cart moving along a frictionless track.\n",
    "The pole starts upright and the goal of the agent is to prevent it from falling over by applying a force of `-1` or `+1` to the cart.\n",
    "A reward of `+1` is given for every time step the pole remains upright.\n",
    "An episode ends when: 1) the pole is more than 15 degrees from vertical; or 2) the cart moves more than 2.4 units from the center.\n",
    "\n",
    "<center>\n",
    "  <figure>\n",
    "    <image src=\"https://tensorflow.org/tutorials/reinforcement_learning/images/cartpole-v0.gif\">\n",
    "    <figcaption>\n",
    "      Trained actor-critic model in Cartpole-v0 environment\n",
    "    </figcaption>\n",
    "  </figure>\n",
    "</center>\n"
   ]
  },
  {
   "cell_type": "markdown",
   "metadata": {
    "id": "XSNVK0AeRoJd"
   },
   "source": [
    "The problem is considered \"solved\" when the average total reward for the episode reaches 195 over 100 consecutive trials."
   ]
  },
  {
   "cell_type": "markdown",
   "metadata": {
    "id": "glLwIctHiUJq"
   },
   "source": [
    "## Setup\n",
    "\n",
    "Import necessary packages and configure global settings.\n"
   ]
  },
  {
   "cell_type": "code",
   "execution_count": null,
   "metadata": {
    "execution": {
     "iopub.execute_input": "2024-08-16T02:25:19.430598Z",
     "iopub.status.busy": "2024-08-16T02:25:19.430384Z",
     "iopub.status.idle": "2024-08-16T02:25:28.284689Z",
     "shell.execute_reply": "2024-08-16T02:25:28.283565Z"
    },
    "id": "13l6BbxKhCKp"
   },
   "outputs": [],
   "source": [
    "\n",
    "# %pip install gym[classic_control]\n",
    "# %pip install pyglet"
   ]
  },
  {
   "cell_type": "code",
   "execution_count": 21,
   "metadata": {},
   "outputs": [
    {
     "name": "stdout",
     "output_type": "stream",
     "text": [
      "Looking in indexes: https://pypi.tuna.tsinghua.edu.cn/simple, https://pypi.garenanow.com/\n",
      "Collecting gymnasium[classic-control]\n",
      "  Downloading https://pypi.tuna.tsinghua.edu.cn/packages/f9/68/2bdc7b46b5f543dd865575f9d19716866bdb76e50dd33b71ed1a3dd8bb42/gymnasium-1.1.1-py3-none-any.whl (965 kB)\n",
      "\u001b[2K     \u001b[90m━━━━━━━━━━━━━━━━━━━━━━━━━━━━━━━━━━━━━━━\u001b[0m \u001b[32m965.4/965.4 KB\u001b[0m \u001b[31m2.0 MB/s\u001b[0m eta \u001b[36m0:00:00\u001b[0m00:01\u001b[0m00:01\u001b[0m\n",
      "\u001b[?25hRequirement already satisfied: typing-extensions>=4.3.0 in /Users/john.zhang/.pyenv/versions/3.9.13/lib/python3.9/site-packages (from gymnasium[classic-control]) (4.12.2)\n",
      "Collecting farama-notifications>=0.0.1\n",
      "  Downloading https://pypi.garenanow.com/mirror/packages/05/2c/ffc08c54c05cdce6fbed2aeebc46348dbe180c6d2c541c7af7ba0aa5f5f8/Farama_Notifications-0.0.4-py3-none-any.whl (2.5 kB)\n",
      "Requirement already satisfied: importlib-metadata>=4.8.0 in /Users/john.zhang/.pyenv/versions/3.9.13/lib/python3.9/site-packages (from gymnasium[classic-control]) (7.1.0)\n",
      "Requirement already satisfied: cloudpickle>=1.2.0 in /Users/john.zhang/.pyenv/versions/3.9.13/lib/python3.9/site-packages (from gymnasium[classic-control]) (3.1.1)\n",
      "Requirement already satisfied: numpy>=1.21.0 in /Users/john.zhang/.pyenv/versions/3.9.13/lib/python3.9/site-packages (from gymnasium[classic-control]) (1.26.4)\n",
      "Collecting pygame>=2.1.3\n",
      "  Downloading https://pypi.tuna.tsinghua.edu.cn/packages/a7/ed/9f49258c5012a4642fe931e3d3fdb87a210a76c4680ce47ec049bb93afae/pygame-2.6.1-cp39-cp39-macosx_10_9_x86_64.whl (13.0 MB)\n",
      "\u001b[2K     \u001b[90m━━━━━━━━━━━━━━━━━━━━━━━━━━━━━━━━━━━━━━━━\u001b[0m \u001b[32m13.0/13.0 MB\u001b[0m \u001b[31m3.4 MB/s\u001b[0m eta \u001b[36m0:00:00\u001b[0m00:01\u001b[0m00:01\u001b[0m\n",
      "\u001b[?25hRequirement already satisfied: zipp>=0.5 in /Users/john.zhang/.pyenv/versions/3.9.13/lib/python3.9/site-packages (from importlib-metadata>=4.8.0->gymnasium[classic-control]) (3.19.2)\n",
      "Installing collected packages: farama-notifications, pygame, gymnasium\n",
      "Successfully installed farama-notifications-0.0.4 gymnasium-1.1.1 pygame-2.6.1\n",
      "\u001b[33mWARNING: You are using pip version 22.0.4; however, version 25.0.1 is available.\n",
      "You should consider upgrading via the '/Users/john.zhang/.pyenv/versions/3.9.13/bin/python -m pip install --upgrade pip' command.\u001b[0m\u001b[33m\n",
      "\u001b[0mNote: you may need to restart the kernel to use updated packages.\n"
     ]
    }
   ],
   "source": [
    "%pip install gymnasium[classic-control]"
   ]
  },
  {
   "cell_type": "code",
   "execution_count": 3,
   "metadata": {
    "execution": {
     "iopub.execute_input": "2024-08-16T02:25:28.289308Z",
     "iopub.status.busy": "2024-08-16T02:25:28.289003Z",
     "iopub.status.idle": "2024-08-16T02:25:38.389710Z",
     "shell.execute_reply": "2024-08-16T02:25:38.388375Z"
    },
    "id": "WBeQhPi2S4m5"
   },
   "outputs": [],
   "source": [
    "%%bash\n",
    "# Install additional packages for visualization\n",
    "sudo apt-get install -y python-opengl > /dev/null 2>&1\n",
    "pip install git+https://github.com/tensorflow/docs > /dev/null 2>&1"
   ]
  },
  {
   "cell_type": "code",
   "execution_count": 6,
   "metadata": {},
   "outputs": [
    {
     "name": "stdout",
     "output_type": "stream",
     "text": [
      "Looking in indexes: https://pypi.tuna.tsinghua.edu.cn/simple, https://pypi.garenanow.com/\n",
      "Collecting tqdm\n",
      "  Using cached https://pypi.garenanow.com/mirror/packages/d0/30/dc54f88dd4a2b5dc8a0279bdd7270e735851848b762aeb1c1184ed1f6b14/tqdm-4.67.1-py3-none-any.whl (78 kB)\n",
      "Installing collected packages: tqdm\n",
      "Successfully installed tqdm-4.67.1\n",
      "\u001b[33mWARNING: You are using pip version 22.0.4; however, version 25.0.1 is available.\n",
      "You should consider upgrading via the '/Users/john.zhang/.pyenv/versions/3.9.13/bin/python -m pip install --upgrade pip' command.\u001b[0m\u001b[33m\n",
      "\u001b[0mNote: you may need to restart the kernel to use updated packages.\n"
     ]
    }
   ],
   "source": [
    "%pip install tqdm"
   ]
  },
  {
   "cell_type": "code",
   "execution_count": null,
   "metadata": {},
   "outputs": [],
   "source": []
  },
  {
   "cell_type": "code",
   "execution_count": 7,
   "metadata": {
    "execution": {
     "iopub.execute_input": "2024-08-16T02:25:38.394227Z",
     "iopub.status.busy": "2024-08-16T02:25:38.393882Z",
     "iopub.status.idle": "2024-08-16T02:25:41.082095Z",
     "shell.execute_reply": "2024-08-16T02:25:41.081147Z"
    },
    "id": "tT4N3qYviUJr"
   },
   "outputs": [],
   "source": [
    "import collections\n",
    "import gym\n",
    "import numpy as np\n",
    "import statistics\n",
    "import tensorflow as tf\n",
    "import tqdm\n",
    "\n",
    "from matplotlib import pyplot as plt\n",
    "from tensorflow.keras import layers\n",
    "from typing import Any, List, Sequence, Tuple\n",
    "\n",
    "\n",
    "# Create the environment\n",
    "env = gym.make(\"CartPole-v1\")\n",
    "\n",
    "# Set seed for experiment reproducibility\n",
    "seed = 42\n",
    "tf.random.set_seed(seed)\n",
    "np.random.seed(seed)\n",
    "\n",
    "# Small epsilon value for stabilizing division operations\n",
    "eps = np.finfo(np.float32).eps.item()"
   ]
  },
  {
   "cell_type": "markdown",
   "metadata": {
    "id": "AOUCe2D0iUJu"
   },
   "source": [
    "## The model\n",
    "\n",
    "The *Actor* and *Critic* will be modeled using one neural network that generates the action probabilities and Critic value respectively. This tutorial uses model subclassing to define the model.\n",
    "\n",
    "During the forward pass, the model will take in the state as the input and will output both action probabilities and critic value $V$, which models the state-dependent [value function](https://spinningup.openai.com/en/latest/spinningup/rl_intro.html#value-functions). The goal is to train a model that chooses actions based on a policy $\\pi$ that maximizes expected [return](https://spinningup.openai.com/en/latest/spinningup/rl_intro.html#reward-and-return).\n",
    "\n",
    "For `CartPole-v0`, there are four values representing the state: cart position, cart-velocity, pole angle and pole velocity respectively. The agent can take two actions to push the cart left (`0`) and right (`1`), respectively.\n",
    "\n",
    "Refer to [Gym's Cart Pole documentation page](https://www.gymlibrary.dev/environments/classic_control/cart_pole/) and [_Neuronlike adaptive elements that can solve difficult learning control problems_](http://www.derongliu.org/adp/adp-cdrom/Barto1983.pdf) by Barto, Sutton and Anderson (1983) for more information.\n"
   ]
  },
  {
   "cell_type": "code",
   "execution_count": 8,
   "metadata": {
    "execution": {
     "iopub.execute_input": "2024-08-16T02:25:41.086442Z",
     "iopub.status.busy": "2024-08-16T02:25:41.085990Z",
     "iopub.status.idle": "2024-08-16T02:25:41.091949Z",
     "shell.execute_reply": "2024-08-16T02:25:41.091131Z"
    },
    "id": "aXKbbMC-kmuv"
   },
   "outputs": [],
   "source": [
    "class ActorCritic(tf.keras.Model):\n",
    "  \"\"\"Combined actor-critic network.\"\"\"\n",
    "\n",
    "  def __init__(\n",
    "      self,\n",
    "      num_actions: int,\n",
    "      num_hidden_units: int):\n",
    "    \"\"\"Initialize.\"\"\"\n",
    "    super().__init__()\n",
    "\n",
    "    self.common = layers.Dense(num_hidden_units, activation=\"relu\")\n",
    "    self.actor = layers.Dense(num_actions)\n",
    "    self.critic = layers.Dense(1)\n",
    "\n",
    "  def call(self, inputs: tf.Tensor) -> Tuple[tf.Tensor, tf.Tensor]:\n",
    "    x = self.common(inputs)\n",
    "    return self.actor(x), self.critic(x)"
   ]
  },
  {
   "cell_type": "code",
   "execution_count": 9,
   "metadata": {
    "execution": {
     "iopub.execute_input": "2024-08-16T02:25:41.094870Z",
     "iopub.status.busy": "2024-08-16T02:25:41.094623Z",
     "iopub.status.idle": "2024-08-16T02:25:41.102456Z",
     "shell.execute_reply": "2024-08-16T02:25:41.101589Z"
    },
    "id": "nWyxJgjLn68c"
   },
   "outputs": [],
   "source": [
    "num_actions = env.action_space.n  # 2\n",
    "num_hidden_units = 128\n",
    "\n",
    "model = ActorCritic(num_actions, num_hidden_units)"
   ]
  },
  {
   "cell_type": "markdown",
   "metadata": {
    "id": "hk92njFziUJw"
   },
   "source": [
    "## Train the agent\n",
    "\n",
    "To train the agent, you will follow these steps:\n",
    "\n",
    "1. Run the agent on the environment to collect training data per episode.\n",
    "2. Compute expected return at each time step.\n",
    "3. Compute the loss for the combined Actor-Critic model.\n",
    "4. Compute gradients and update network parameters.\n",
    "5. Repeat 1-4 until either success criterion or max episodes has been reached.\n"
   ]
  },
  {
   "cell_type": "markdown",
   "metadata": {
    "id": "R2nde2XDs8Gh"
   },
   "source": [
    "### 1. Collect training data\n",
    "\n",
    "As in supervised learning, in order to train the actor-critic model, you need\n",
    "to have training data. However, in order to collect such data, the model would\n",
    "need to be \"run\" in the environment.\n",
    "\n",
    "Training data is collected for each episode. Then at each time step, the model's forward pass will be run on the environment's state in order to generate action probabilities and the critic value based on the current policy parameterized by the model's weights.\n",
    "\n",
    "The next action will be sampled from the action probabilities generated by the model, which would then be applied to the environment, causing the next state and reward to be generated.\n",
    "\n",
    "This process is implemented in the `run_episode` function, which uses TensorFlow operations so that it can later be compiled into a TensorFlow graph for faster training. Note that `tf.TensorArray`s were used to support Tensor iteration on variable length arrays."
   ]
  },
  {
   "cell_type": "code",
   "execution_count": 10,
   "metadata": {
    "execution": {
     "iopub.execute_input": "2024-08-16T02:25:41.105998Z",
     "iopub.status.busy": "2024-08-16T02:25:41.105500Z",
     "iopub.status.idle": "2024-08-16T02:25:41.110510Z",
     "shell.execute_reply": "2024-08-16T02:25:41.109614Z"
    },
    "id": "5URrbGlDSAGx"
   },
   "outputs": [],
   "source": [
    "# Wrap Gym's `env.step` call as an operation in a TensorFlow function.\n",
    "# This would allow it to be included in a callable TensorFlow graph.\n",
    "\n",
    "@tf.numpy_function(Tout=[tf.float32, tf.int32, tf.int32])\n",
    "def env_step(action: np.ndarray) -> Tuple[np.ndarray, np.ndarray, np.ndarray]:\n",
    "  \"\"\"Returns state, reward and done flag given an action.\"\"\"\n",
    "\n",
    "  state, reward, done, truncated, info = env.step(action)\n",
    "  return (state.astype(np.float32),\n",
    "          np.array(reward, np.int32),\n",
    "          np.array(done, np.int32))\n"
   ]
  },
  {
   "cell_type": "code",
   "execution_count": null,
   "metadata": {
    "execution": {
     "iopub.execute_input": "2024-08-16T02:25:41.113607Z",
     "iopub.status.busy": "2024-08-16T02:25:41.113359Z",
     "iopub.status.idle": "2024-08-16T02:25:41.120888Z",
     "shell.execute_reply": "2024-08-16T02:25:41.120062Z"
    },
    "id": "a4qVRV063Cl9"
   },
   "outputs": [],
   "source": [
    "def run_episode(\n",
    "    initial_state: tf.Tensor,\n",
    "    model: tf.keras.Model,\n",
    "    max_steps: int) -> Tuple[tf.Tensor, tf.Tensor, tf.Tensor]:\n",
    "  \"\"\"Runs a single episode to collect training data.\"\"\"\n",
    "\n",
    "\n",
    "  action_probs = tf.TensorArray(dtype=tf.float32, size=0, dynamic_size=True)\n",
    "  values = tf.TensorArray(dtype=tf.float32, size=0, dynamic_size=True)\n",
    "  rewards = tf.TensorArray(dtype=tf.int32, size=0, dynamic_size=True)\n",
    "\n",
    "  initial_state_shape = initial_state.shape\n",
    "  state = initial_state\n",
    "\n",
    "  for t in tf.range(max_steps):\n",
    "    # Convert state into a batched tensor (batch size = 1)\n",
    "    state = tf.expand_dims(state, 0)\n",
    "\n",
    "    # Run the model and to get action probabilities and critic value\n",
    "    action_logits_t, value = model(state)\n",
    "\n",
    "    # Sample next action from the action probability distribution\n",
    "    # [0, 0]: 0-batch index, 0-sample index\n",
    "    action = tf.random.categorical(action_logits_t, 1)[0, 0]\n",
    "    action_probs_t = tf.nn.softmax(action_logits_t)\n",
    "\n",
    "    # Store critic values\n",
    "    # squeeze removes the batch dimension\n",
    "    values = values.write(t, tf.squeeze(value))\n",
    "\n",
    "    # Store log probability of the action chosen\n",
    "    action_probs = action_probs.write(t, action_probs_t[0, action])\n",
    "\n",
    "    # Apply action to the environment to get next state and reward\n",
    "    state, reward, done = env_step(action)\n",
    "    state.set_shape(initial_state_shape)\n",
    "\n",
    "    # Store reward\n",
    "    rewards = rewards.write(t, reward)\n",
    "\n",
    "    if tf.cast(done, tf.bool):\n",
    "      break\n",
    "\n",
    "  action_probs = action_probs.stack()\n",
    "  values = values.stack()\n",
    "  rewards = rewards.stack()\n",
    "\n",
    "  return action_probs, values, rewards"
   ]
  },
  {
   "cell_type": "markdown",
   "metadata": {
    "id": "lBnIHdz22dIx"
   },
   "source": [
    "### 2. Compute the expected returns\n",
    "\n",
    "The sequence of rewards for each timestep $t$, $\\{r_{t}\\}^{T}_{t=1}$ collected during one episode is converted into a sequence of expected returns $\\{G_{t}\\}^{T}_{t=1}$ in which the sum of rewards is taken from the current timestep $t$ to $T$ and each reward is multiplied with an exponentially decaying discount factor $\\gamma$:\n",
    "\n",
    "$$G_{t} = \\sum^{T}_{t'=t} \\gamma^{t'-t}r_{t'}$$\n",
    "\n",
    "Since $\\gamma\\in(0,1)$, rewards further out from the current timestep are given less weight.\n",
    "\n",
    "Intuitively, expected return simply implies that rewards now are better than rewards later. In a mathematical sense, it is to ensure that the sum of the rewards converges.\n",
    "\n",
    "To stabilize training, the resulting sequence of returns is also standardized (i.e. to have zero mean and unit standard deviation).\n"
   ]
  },
  {
   "cell_type": "code",
   "execution_count": 13,
   "metadata": {
    "execution": {
     "iopub.execute_input": "2024-08-16T02:25:41.124326Z",
     "iopub.status.busy": "2024-08-16T02:25:41.124079Z",
     "iopub.status.idle": "2024-08-16T02:25:41.129954Z",
     "shell.execute_reply": "2024-08-16T02:25:41.129082Z"
    },
    "id": "jpEwFyl315dl"
   },
   "outputs": [],
   "source": [
    "def get_expected_return(\n",
    "    rewards: tf.Tensor,\n",
    "    gamma: float,\n",
    "    standardize: bool = True) -> tf.Tensor:\n",
    "  \"\"\"Compute expected returns per timestep.\"\"\"\n",
    "\n",
    "  n = tf.shape(rewards)[0]\n",
    "  returns = tf.TensorArray(dtype=tf.float32, size=n)\n",
    "\n",
    "  # Start from the end of `rewards` and accumulate reward sums\n",
    "  # into the `returns` array\n",
    "  rewards = tf.cast(rewards[::-1], dtype=tf.float32) # start from the end\n",
    "  discounted_sum = tf.constant(0.0)\n",
    "  discounted_sum_shape = discounted_sum.shape\n",
    "  for i in tf.range(n):\n",
    "    reward = rewards[i]\n",
    "    discounted_sum = reward + gamma * discounted_sum\n",
    "    discounted_sum.set_shape(discounted_sum_shape) # why do we need this?\n",
    "    returns = returns.write(i, discounted_sum)\n",
    "  returns = returns.stack()[::-1] # reverse back\n",
    "\n",
    "  if standardize:\n",
    "    returns = ((returns - tf.math.reduce_mean(returns)) /\n",
    "               (tf.math.reduce_std(returns) + eps))\n",
    "\n",
    "  return returns"
   ]
  },
  {
   "cell_type": "markdown",
   "metadata": {
    "id": "qhr50_Czxazw"
   },
   "source": [
    "### 3. The Actor-Critic loss\n",
    "\n",
    "Since you're using a hybrid Actor-Critic model, the chosen loss function is a combination of Actor and Critic losses for training, as shown below:\n",
    "\n",
    "$$L = L_{actor} + L_{critic}$$"
   ]
  },
  {
   "cell_type": "markdown",
   "metadata": {
    "id": "nOQIJuG1xdTH"
   },
   "source": [
    "#### The Actor loss\n",
    "\n",
    "The Actor loss is based on [policy gradients with the Critic as a state dependent baseline](https://www.youtube.com/watch?v=EKqxumCuAAY&t=62m23s) and computed with single-sample (per-episode) estimates.\n",
    "\n",
    "$$L_{actor} = -\\sum^{T}_{t=1} \\log\\pi_{\\theta}(a_{t} | s_{t})[G(s_{t}, a_{t})  - V^{\\pi}_{\\theta}(s_{t})]$$\n",
    "\n",
    "where:\n",
    "- $T$: the number of timesteps per episode, which can vary per episode\n",
    "- $s_{t}$: the state at timestep $t$\n",
    "- $a_{t}$: chosen action at timestep $t$ given state $s$\n",
    "- $\\pi_{\\theta}$: is the policy (Actor) parameterized by $\\theta$\n",
    "- $V^{\\pi}_{\\theta}$: is the value function (Critic) also parameterized by $\\theta$\n",
    "- $G = G_{t}$: the expected return for a given state, action pair at timestep $t$\n",
    "\n",
    "A negative term is added to the sum since the idea is to maximize the probabilities of actions yielding higher rewards by minimizing the combined loss.\n",
    "\n",
    "<br>"
   ]
  },
  {
   "cell_type": "markdown",
   "metadata": {
    "id": "Y304O4OAxiAv"
   },
   "source": [
    "##### The Advantage\n",
    "\n",
    "The $G - V$ term in our $L_{actor}$ formulation is called the [Advantage](https://spinningup.openai.com/en/latest/spinningup/rl_intro.html#advantage-functions), which indicates how much better an action is given a particular state over a random action selected according to the policy $\\pi$ for that state.\n",
    "\n",
    "While it's possible to exclude a baseline, this may result in high variance during training. And the nice thing about choosing the critic $V$ as a baseline is that it trained to be as close as possible to $G$, leading to a lower variance.\n",
    "\n",
    "In addition, without the Critic, the algorithm would try to increase probabilities for actions taken on a particular state based on expected return, which may not make much of a difference if the relative probabilities between actions remain the same.\n",
    "\n",
    "For instance, suppose that two actions for a given state would yield the same expected return. Without the Critic, the algorithm would try to raise the probability of these actions based on the objective $J$. With the Critic, it may turn out that there's no Advantage ($G - V = 0$), and thus no benefit gained in increasing the actions' probabilities and the algorithm would set the gradients to zero.\n",
    "\n",
    "<br>"
   ]
  },
  {
   "cell_type": "markdown",
   "metadata": {
    "id": "1hrPLrgGxlvb"
   },
   "source": [
    "#### The Critic loss\n",
    "\n",
    "Training $V$ to be as close possible to $G$ can be set up as a regression problem with the following loss function:\n",
    "\n",
    "$$L_{critic} = L_{\\delta}(G, V^{\\pi}_{\\theta})$$\n",
    "\n",
    "where $L_{\\delta}$ is the [Huber loss](https://en.wikipedia.org/wiki/Huber_loss), which is less sensitive to outliers in data than squared-error loss.\n"
   ]
  },
  {
   "cell_type": "markdown",
   "metadata": {},
   "source": [
    "Notice that:\n",
    "In <<RL 2018>>:         for each step, caluclate loss, update critic and actor parameters.\n",
    "\n",
    "Th implementation here: for all steps, reduce sume loss, update critic and actor parameters."
   ]
  },
  {
   "cell_type": "code",
   "execution_count": 14,
   "metadata": {
    "execution": {
     "iopub.execute_input": "2024-08-16T02:25:41.133349Z",
     "iopub.status.busy": "2024-08-16T02:25:41.133103Z",
     "iopub.status.idle": "2024-08-16T02:25:41.138007Z",
     "shell.execute_reply": "2024-08-16T02:25:41.137182Z"
    },
    "id": "9EXwbEez6n9m"
   },
   "outputs": [],
   "source": [
    "huber_loss = tf.keras.losses.Huber(reduction=tf.keras.losses.Reduction.SUM)\n",
    "def compute_loss(\n",
    "    action_probs: tf.Tensor,\n",
    "    values: tf.Tensor,\n",
    "    returns: tf.Tensor) -> tf.Tensor:\n",
    "  \"\"\"Computes the combined Actor-Critic loss.\"\"\"\n",
    "\n",
    "  advantage = returns - values\n",
    "\n",
    "  action_log_probs = tf.math.log(action_probs)\n",
    "  actor_loss = - tf.reduce_sum(action_log_probs * advantage)\n",
    "\n",
    "  critic_loss = huber_loss(values, returns)\n",
    "\n",
    "  return actor_loss + critic_loss"
   ]
  },
  {
   "cell_type": "markdown",
   "metadata": {
    "id": "HSYkQOmRfV75"
   },
   "source": [
    "### 4. Define the training step to update parameters\n",
    "\n",
    "All of the steps above are combined into a training step that is run every episode. All steps leading up to the loss function are executed with the `tf.GradientTape` context to enable automatic differentiation.\n",
    "\n",
    "This tutorial uses the Adam optimizer to apply the gradients to the model parameters.\n",
    "\n",
    "The sum of the undiscounted rewards, `episode_reward`, is also computed in this step. This value will be used later on to evaluate if the success criterion is met.\n",
    "\n",
    "The `tf.function` context is applied to the `train_step` function so that it can be compiled into a callable TensorFlow graph, which can lead to 10x speedup in training.\n"
   ]
  },
  {
   "cell_type": "code",
   "execution_count": 15,
   "metadata": {
    "execution": {
     "iopub.execute_input": "2024-08-16T02:25:41.141327Z",
     "iopub.status.busy": "2024-08-16T02:25:41.141061Z",
     "iopub.status.idle": "2024-08-16T02:25:43.359205Z",
     "shell.execute_reply": "2024-08-16T02:25:43.358172Z"
    },
    "id": "QoccrkF3IFCg"
   },
   "outputs": [],
   "source": [
    "optimizer = tf.optimizers.Adam(learning_rate=0.01)\n",
    "\n",
    "@tf.function\n",
    "def train_step(\n",
    "    initial_state: tf.Tensor,\n",
    "    model: tf.keras.Model,\n",
    "    optimizer: tf.keras.optimizers.Optimizer,\n",
    "    gamma: float,\n",
    "    max_steps_per_episode: int) -> tf.Tensor:\n",
    "  \"\"\"Runs a model training step.\"\"\"\n",
    "\n",
    "  with tf.GradientTape() as tape:\n",
    "\n",
    "    # Run the model for one episode to collect training data\n",
    "    action_probs, values, rewards = run_episode(\n",
    "        initial_state, model, max_steps_per_episode)\n",
    "\n",
    "    # Calculate the expected returns\n",
    "    returns = get_expected_return(rewards, gamma)\n",
    "\n",
    "    # Convert training data to appropriate TF tensor shapes\n",
    "    action_probs, values, returns = [\n",
    "        tf.expand_dims(x, 1) for x in [action_probs, values, returns]]\n",
    "\n",
    "    # Calculate the loss values to update our network\n",
    "    loss = compute_loss(action_probs, values, returns)\n",
    "\n",
    "  # Compute the gradients from the loss\n",
    "  grads = tape.gradient(loss, model.trainable_variables)\n",
    "\n",
    "  # Apply the gradients to the model's parameters\n",
    "  optimizer.apply_gradients(zip(grads, model.trainable_variables))\n",
    "\n",
    "  episode_reward = tf.math.reduce_sum(rewards)\n",
    "\n",
    "  return episode_reward"
   ]
  },
  {
   "cell_type": "markdown",
   "metadata": {
    "id": "HFvZiDoAflGK"
   },
   "source": [
    "### 5. Run the training loop\n",
    "\n",
    "Training is executed by running the training step until either the success criterion or maximum number of episodes is reached.  \n",
    "\n",
    "A running record of episode rewards is kept in a queue. Once 100 trials are reached, the oldest reward is removed at the left (tail) end of the queue and the newest one is added at the head (right). A running sum of the rewards is also maintained for computational efficiency.\n",
    "\n",
    "Depending on your runtime, training can finish in less than a minute."
   ]
  },
  {
   "cell_type": "code",
   "execution_count": 16,
   "metadata": {
    "execution": {
     "iopub.execute_input": "2024-08-16T02:25:43.362874Z",
     "iopub.status.busy": "2024-08-16T02:25:43.362590Z",
     "iopub.status.idle": "2024-08-16T02:26:44.057276Z",
     "shell.execute_reply": "2024-08-16T02:26:44.056525Z"
    },
    "id": "kbmBxnzLiUJx"
   },
   "outputs": [
    {
     "name": "stderr",
     "output_type": "stream",
     "text": [
      "  0%|          | 0/10000 [00:00<?, ?it/s]/Users/john.zhang/.pyenv/versions/3.9.13/lib/python3.9/site-packages/gym/utils/passive_env_checker.py:233: DeprecationWarning: `np.bool8` is a deprecated alias for `np.bool_`.  (Deprecated NumPy 1.24)\n",
      "  if not isinstance(terminated, (bool, np.bool8)):\n",
      "  6%|▋         | 626/10000 [00:38<09:35, 16.29it/s, episode_reward=500, running_reward=476] "
     ]
    },
    {
     "name": "stdout",
     "output_type": "stream",
     "text": [
      "\n",
      "Solved at episode 626: average reward: 475.61!\n",
      "CPU times: user 46.1 s, sys: 4.75 s, total: 50.9 s\n",
      "Wall time: 38.6 s\n"
     ]
    },
    {
     "name": "stderr",
     "output_type": "stream",
     "text": [
      "\n"
     ]
    }
   ],
   "source": [
    "%%time\n",
    "\n",
    "min_episodes_criterion = 100\n",
    "max_episodes = 10000\n",
    "max_steps_per_episode = 500\n",
    "\n",
    "# `CartPole-v1` is considered solved if average reward is >= 475 over 500\n",
    "# consecutive trials\n",
    "reward_threshold = 475\n",
    "running_reward = 0\n",
    "\n",
    "# The discount factor for future rewards\n",
    "gamma = 0.99\n",
    "\n",
    "# Keep the last episodes reward\n",
    "episodes_reward: collections.deque = collections.deque(maxlen=min_episodes_criterion) # what does this do?\n",
    "\n",
    "t = tqdm.trange(max_episodes)\n",
    "for i in t:\n",
    "    initial_state, info = env.reset()\n",
    "    initial_state = tf.constant(initial_state, dtype=tf.float32)\n",
    "    episode_reward = int(train_step(\n",
    "        initial_state, model, optimizer, gamma, max_steps_per_episode))\n",
    "\n",
    "    episodes_reward.append(episode_reward)\n",
    "    running_reward = statistics.mean(episodes_reward)\n",
    "\n",
    "\n",
    "    t.set_postfix(\n",
    "        episode_reward=episode_reward, running_reward=running_reward)\n",
    "\n",
    "    # Show the average episode reward every 10 episodes\n",
    "    if i % 10 == 0:\n",
    "      pass # print(f'Episode {i}: average reward: {avg_reward}')\n",
    "\n",
    "    if running_reward > reward_threshold and i >= min_episodes_criterion:\n",
    "        break\n",
    "\n",
    "print(f'\\nSolved at episode {i}: average reward: {running_reward:.2f}!')"
   ]
  },
  {
   "cell_type": "markdown",
   "metadata": {
    "id": "ru8BEwS1EmAv"
   },
   "source": [
    "## Visualization\n",
    "\n",
    "After training, it would be good to visualize how the model performs in the environment. You can run the cells below to generate a GIF animation of one episode run of the model. Note that additional packages need to be installed for Gym to render the environment's images correctly in Colab."
   ]
  },
  {
   "cell_type": "code",
   "execution_count": null,
   "metadata": {},
   "outputs": [
    {
     "name": "stdout",
     "output_type": "stream",
     "text": [
      "Looking in indexes: https://pypi.tuna.tsinghua.edu.cn/simple, https://pypi.garenanow.com/\n",
      "Requirement already satisfied: gym[classic_control] in /Users/john.zhang/.pyenv/versions/3.9.13/lib/python3.9/site-packages (0.26.2)\n",
      "\u001b[33mWARNING: gym 0.26.2 does not provide the extra 'classic_control'\u001b[0m\u001b[33m\n",
      "\u001b[0mRequirement already satisfied: importlib_metadata>=4.8.0 in /Users/john.zhang/.pyenv/versions/3.9.13/lib/python3.9/site-packages (from gym[classic_control]) (7.1.0)\n",
      "Requirement already satisfied: numpy>=1.18.0 in /Users/john.zhang/.pyenv/versions/3.9.13/lib/python3.9/site-packages (from gym[classic_control]) (1.26.4)\n",
      "Requirement already satisfied: cloudpickle>=1.2.0 in /Users/john.zhang/.pyenv/versions/3.9.13/lib/python3.9/site-packages (from gym[classic_control]) (3.1.1)\n",
      "Requirement already satisfied: gym_notices>=0.0.4 in /Users/john.zhang/.pyenv/versions/3.9.13/lib/python3.9/site-packages (from gym[classic_control]) (0.0.8)\n",
      "Requirement already satisfied: zipp>=0.5 in /Users/john.zhang/.pyenv/versions/3.9.13/lib/python3.9/site-packages (from importlib_metadata>=4.8.0->gym[classic_control]) (3.19.2)\n",
      "\u001b[33mWARNING: You are using pip version 22.0.4; however, version 25.0.1 is available.\n",
      "You should consider upgrading via the '/Users/john.zhang/.pyenv/versions/3.9.13/bin/python -m pip install --upgrade pip' command.\u001b[0m\u001b[33m\n",
      "\u001b[0mNote: you may need to restart the kernel to use updated packages.\n"
     ]
    }
   ],
   "source": [
    "%pip install gymnasium[classic-control]"
   ]
  },
  {
   "cell_type": "code",
   "execution_count": 22,
   "metadata": {
    "execution": {
     "iopub.execute_input": "2024-08-16T02:26:44.060829Z",
     "iopub.status.busy": "2024-08-16T02:26:44.060575Z",
     "iopub.status.idle": "2024-08-16T02:26:47.181623Z",
     "shell.execute_reply": "2024-08-16T02:26:47.180821Z"
    },
    "id": "qbIMMkfmRHyC"
   },
   "outputs": [
    {
     "name": "stderr",
     "output_type": "stream",
     "text": [
      "/Users/john.zhang/.pyenv/versions/3.9.13/lib/python3.9/site-packages/gym/utils/passive_env_checker.py:233: DeprecationWarning: `np.bool8` is a deprecated alias for `np.bool_`.  (Deprecated NumPy 1.24)\n",
      "  if not isinstance(terminated, (bool, np.bool8)):\n"
     ]
    }
   ],
   "source": [
    "# Render an episode and save as a GIF file\n",
    "\n",
    "from IPython import display as ipythondisplay\n",
    "from PIL import Image\n",
    "\n",
    "render_env = gym.make(\"CartPole-v1\", render_mode='rgb_array')\n",
    "\n",
    "def render_episode(env: gym.Env, model: tf.keras.Model, max_steps: int):\n",
    "  state, info = env.reset()\n",
    "  state = tf.constant(state, dtype=tf.float32)\n",
    "  screen = env.render()\n",
    "  images = [Image.fromarray(screen)]\n",
    "\n",
    "  for i in range(1, max_steps + 1):\n",
    "    state = tf.expand_dims(state, 0)\n",
    "    action_probs, _ = model(state)\n",
    "    action = np.argmax(np.squeeze(action_probs))\n",
    "\n",
    "    state, reward, done, truncated, info = env.step(action)\n",
    "    state = tf.constant(state, dtype=tf.float32)\n",
    "\n",
    "    # Render screen every 10 steps\n",
    "    if i % 10 == 0:\n",
    "      screen = env.render()\n",
    "      images.append(Image.fromarray(screen))\n",
    "\n",
    "    if done:\n",
    "      break\n",
    "\n",
    "  return images\n",
    "\n",
    "\n",
    "# Save GIF image\n",
    "images = render_episode(render_env, model, max_steps_per_episode)\n",
    "image_file = 'cartpole-v1.gif'\n",
    "# loop=0: loop forever, duration=1: play each frame for 1ms\n",
    "images[0].save(\n",
    "    image_file, save_all=True, append_images=images[1:], loop=0, duration=1)"
   ]
  },
  {
   "cell_type": "code",
   "execution_count": 23,
   "metadata": {
    "execution": {
     "iopub.execute_input": "2024-08-16T02:26:47.185484Z",
     "iopub.status.busy": "2024-08-16T02:26:47.185183Z",
     "iopub.status.idle": "2024-08-16T02:26:47.197699Z",
     "shell.execute_reply": "2024-08-16T02:26:47.197111Z"
    },
    "id": "TLd720SejKmf"
   },
   "outputs": [
    {
     "data": {
      "text/html": [
       "<img src=\"data:image/gif;base64,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\"/>"
      ],
      "text/plain": [
       "<IPython.core.display.HTML object>"
      ]
     },
     "execution_count": 23,
     "metadata": {},
     "output_type": "execute_result"
    }
   ],
   "source": [
    "import tensorflow_docs.vis.embed as embed\n",
    "embed.embed_file(image_file)"
   ]
  },
  {
   "cell_type": "markdown",
   "metadata": {
    "id": "lnq9Hzo1Po6X"
   },
   "source": [
    "## Next steps\n",
    "\n",
    "This tutorial demonstrated how to implement the Actor-Critic method using Tensorflow.\n",
    "\n",
    "As a next step, you could try training a model on a different environment in Gym.\n",
    "\n",
    "For additional information regarding Actor-Critic methods and the Cartpole-v0 problem, you may refer to the following resources:\n",
    "\n",
    "- [The Actor-Critic method](https://hal.inria.fr/hal-00840470/document)\n",
    "- [The Actor-Critic lecture (CAL)](https://www.youtube.com/watch?v=EKqxumCuAAY&list=PLkFD6_40KJIwhWJpGazJ9VSj9CFMkb79A&index=7&t=0s)\n",
    "- [Cart Pole learning control problem \\[Barto, et al. 1983\\]](http://www.derongliu.org/adp/adp-cdrom/Barto1983.pdf)\n",
    "\n",
    "For more reinforcement learning examples in TensorFlow, you can check the following resources:\n",
    "- [Reinforcement learning code examples (keras.io)](https://keras.io/examples/rl/)\n",
    "- [TF-Agents reinforcement learning library](https://www.tensorflow.org/agents)\n"
   ]
  }
 ],
 "metadata": {
  "colab": {
   "collapsed_sections": [
    "_jQ1tEQCxwRx"
   ],
   "name": "actor_critic.ipynb",
   "provenance": [],
   "toc_visible": true
  },
  "kernelspec": {
   "display_name": "Python 3",
   "name": "python3"
  },
  "language_info": {
   "codemirror_mode": {
    "name": "ipython",
    "version": 3
   },
   "file_extension": ".py",
   "mimetype": "text/x-python",
   "name": "python",
   "nbconvert_exporter": "python",
   "pygments_lexer": "ipython3",
   "version": "3.9.13"
  }
 },
 "nbformat": 4,
 "nbformat_minor": 0
}
